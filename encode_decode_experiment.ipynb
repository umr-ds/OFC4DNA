{
 "cells": [
  {
   "cell_type": "code",
   "id": "initial_id",
   "metadata": {
    "collapsed": true,
    "ExecuteTime": {
     "end_time": "2024-05-16T19:32:49.795209Z",
     "start_time": "2024-05-16T19:32:46.863845Z"
    }
   },
   "source": [
    "import glob\n",
    "from NOREC4DNA.norec4dna import get_error_correction_decode\n",
    "from cluster_exp import raptor_dist, bmp_low_entropy_evo_dist, bmp_low_entropy_diff_dist, \\\n",
    "    evo_compress_encrypt_high_entropy_dist, diff_compress_encrypt_high_entropy_dist\n",
    "\n",
    "from Helper import decode_from_fasta"
   ],
   "outputs": [],
   "execution_count": 1
  },
  {
   "metadata": {
    "ExecuteTime": {
     "end_time": "2024-05-16T19:32:52.653064Z",
     "start_time": "2024-05-16T19:32:52.648928Z"
    }
   },
   "cell_type": "code",
   "source": [
    "def get_dist(filename):\n",
    "    if \"raptor\" in filename:\n",
    "        return raptor_dist\n",
    "    elif \"low_entropy_evo\" in filename:\n",
    "        return bmp_low_entropy_evo_dist\n",
    "    elif \"low_entropy_diff\" in filename:\n",
    "        return bmp_low_entropy_diff_dist\n",
    "    elif \"evo_compress_encrypt\" in filename:\n",
    "        return evo_compress_encrypt_high_entropy_dist\n",
    "    elif \"diff_compress_encrypt\" in filename:\n",
    "        return diff_compress_encrypt_high_entropy_dist\n",
    "    else:\n",
    "        raise ValueError(\"Unknown dist\")\n",
    "\n",
    "\n",
    "def get_seed_spacing(filename):\n",
    "    if not \"seedspacing\" in filename:\n",
    "        return 0\n",
    "    else:\n",
    "        return int(filename.replace(\"_payloadxor\", \"\").split(\"seedspacing\")[1].split(\".\")[0])\n",
    "\n",
    "\n",
    "def get_payload_xor(filename):\n",
    "    return \"_payloadxor\" in filename"
   ],
   "id": "db9d2b5aa9b24b0f",
   "outputs": [],
   "execution_count": 2
  },
  {
   "metadata": {
    "ExecuteTime": {
     "end_time": "2024-05-16T19:32:55.838203Z",
     "start_time": "2024-05-16T19:32:55.077074Z"
    }
   },
   "cell_type": "code",
   "source": [
    "number_of_chunks = 191  # or 191?\n",
    "files = glob.glob(\"clusts/opt_sleeping_beauty_150_raptor*.fasta\")\n",
    "\n",
    "for file in files:\n",
    "    error_correction = get_error_correction_decode(\"reedsolomon\", 2)\n",
    "    dist = get_dist(file)\n",
    "    use_payload_xor = get_payload_xor(file)\n",
    "    seed_spacing = get_seed_spacing(file)\n",
    "    static_number_of_chunks = number_of_chunks\n",
    "    print(f\"Current file and settings: {file}, {dist}, {use_payload_xor}, {seed_spacing}, {static_number_of_chunks}\")\n",
    "    try:\n",
    "        res = decode_from_fasta(file, number_of_chunks=number_of_chunks, dist=dist, error_correction=error_correction,\n",
    "                                use_seed_xor=False, use_payload_xor=use_payload_xor, seed_spacing=seed_spacing,\n",
    "                                use_headerchunk=False)\n",
    "    except Exception as e:\n",
    "        print(f\"Error in {file}: {e}\")\n",
    "        raise e\n",
    "        continue"
   ],
   "id": "e54c5b5617c7c19a",
   "outputs": [
    {
     "name": "stdout",
     "output_type": "stream",
     "text": [
      "Current file and settings: clusts\\opt_sleeping_beauty_150_raptor_seedspacing0.fasta, [0, 10241, 491582, 712794, 831695, 831695, 831695, 831695, 831695, 831695, 948446, 1032189, 1032189, 1032189, 1032189, 1032189, 1032189, 1032189, 1032189, 1032189, 1032189, 1032189, 1032189, 1032189, 1032189, 1032189, 1032189, 1032189, 1032189, 1032189, 1032189, 1032189, 1032189, 1032189, 1032189, 1032189, 1032189, 1032189, 1032189, 1032189, 1048576], False, 0, 191\n"
     ]
    },
    {
     "name": "stderr",
     "output_type": "stream",
     "text": [
      " 90%|#### | Correct: 176, Corrupt: ------, ETA:  00:00:00 Elapsed Time: 0:00:00"
     ]
    },
    {
     "ename": "UnicodeDecodeError",
     "evalue": "'utf-8' codec can't decode bytes in position 3-4: invalid continuation byte",
     "output_type": "error",
     "traceback": [
      "\u001B[1;31m---------------------------------------------------------------------------\u001B[0m",
      "\u001B[1;31mUnicodeDecodeError\u001B[0m                        Traceback (most recent call last)",
      "Cell \u001B[1;32mIn[3], line 17\u001B[0m\n\u001B[0;32m     15\u001B[0m \u001B[38;5;28;01mexcept\u001B[39;00m \u001B[38;5;167;01mException\u001B[39;00m \u001B[38;5;28;01mas\u001B[39;00m e:\n\u001B[0;32m     16\u001B[0m     \u001B[38;5;28mprint\u001B[39m(\u001B[38;5;124mf\u001B[39m\u001B[38;5;124m\"\u001B[39m\u001B[38;5;124mError in \u001B[39m\u001B[38;5;132;01m{\u001B[39;00mfile\u001B[38;5;132;01m}\u001B[39;00m\u001B[38;5;124m: \u001B[39m\u001B[38;5;132;01m{\u001B[39;00me\u001B[38;5;132;01m}\u001B[39;00m\u001B[38;5;124m\"\u001B[39m)\n\u001B[1;32m---> 17\u001B[0m     \u001B[38;5;28;01mraise\u001B[39;00m e\n\u001B[0;32m     18\u001B[0m     \u001B[38;5;28;01mcontinue\u001B[39;00m\n",
      "Cell \u001B[1;32mIn[3], line 12\u001B[0m\n\u001B[0;32m     10\u001B[0m \u001B[38;5;28mprint\u001B[39m(\u001B[38;5;124mf\u001B[39m\u001B[38;5;124m\"\u001B[39m\u001B[38;5;124mCurrent file and settings: \u001B[39m\u001B[38;5;132;01m{\u001B[39;00mfile\u001B[38;5;132;01m}\u001B[39;00m\u001B[38;5;124m, \u001B[39m\u001B[38;5;132;01m{\u001B[39;00mdist\u001B[38;5;132;01m}\u001B[39;00m\u001B[38;5;124m, \u001B[39m\u001B[38;5;132;01m{\u001B[39;00muse_payload_xor\u001B[38;5;132;01m}\u001B[39;00m\u001B[38;5;124m, \u001B[39m\u001B[38;5;132;01m{\u001B[39;00mseed_spacing\u001B[38;5;132;01m}\u001B[39;00m\u001B[38;5;124m, \u001B[39m\u001B[38;5;132;01m{\u001B[39;00mstatic_number_of_chunks\u001B[38;5;132;01m}\u001B[39;00m\u001B[38;5;124m\"\u001B[39m)\n\u001B[0;32m     11\u001B[0m \u001B[38;5;28;01mtry\u001B[39;00m:\n\u001B[1;32m---> 12\u001B[0m     res \u001B[38;5;241m=\u001B[39m \u001B[43mdecode_from_fasta\u001B[49m\u001B[43m(\u001B[49m\u001B[43mfile\u001B[49m\u001B[43m,\u001B[49m\u001B[43m \u001B[49m\u001B[43mnumber_of_chunks\u001B[49m\u001B[38;5;241;43m=\u001B[39;49m\u001B[43mnumber_of_chunks\u001B[49m\u001B[43m,\u001B[49m\u001B[43m \u001B[49m\u001B[43mdist\u001B[49m\u001B[38;5;241;43m=\u001B[39;49m\u001B[43mdist\u001B[49m\u001B[43m,\u001B[49m\u001B[43m \u001B[49m\u001B[43merror_correction\u001B[49m\u001B[38;5;241;43m=\u001B[39;49m\u001B[43merror_correction\u001B[49m\u001B[43m,\u001B[49m\n\u001B[0;32m     13\u001B[0m \u001B[43m                            \u001B[49m\u001B[43muse_seed_xor\u001B[49m\u001B[38;5;241;43m=\u001B[39;49m\u001B[38;5;28;43;01mFalse\u001B[39;49;00m\u001B[43m,\u001B[49m\u001B[43m \u001B[49m\u001B[43muse_payload_xor\u001B[49m\u001B[38;5;241;43m=\u001B[39;49m\u001B[43muse_payload_xor\u001B[49m\u001B[43m,\u001B[49m\u001B[43m \u001B[49m\u001B[43mseed_spacing\u001B[49m\u001B[38;5;241;43m=\u001B[39;49m\u001B[43mseed_spacing\u001B[49m\u001B[43m,\u001B[49m\n\u001B[0;32m     14\u001B[0m \u001B[43m                            \u001B[49m\u001B[43muse_headerchunk\u001B[49m\u001B[38;5;241;43m=\u001B[39;49m\u001B[38;5;28;43;01mFalse\u001B[39;49;00m\u001B[43m)\u001B[49m\n\u001B[0;32m     15\u001B[0m \u001B[38;5;28;01mexcept\u001B[39;00m \u001B[38;5;167;01mException\u001B[39;00m \u001B[38;5;28;01mas\u001B[39;00m e:\n\u001B[0;32m     16\u001B[0m     \u001B[38;5;28mprint\u001B[39m(\u001B[38;5;124mf\u001B[39m\u001B[38;5;124m\"\u001B[39m\u001B[38;5;124mError in \u001B[39m\u001B[38;5;132;01m{\u001B[39;00mfile\u001B[38;5;132;01m}\u001B[39;00m\u001B[38;5;124m: \u001B[39m\u001B[38;5;132;01m{\u001B[39;00me\u001B[38;5;132;01m}\u001B[39;00m\u001B[38;5;124m\"\u001B[39m)\n",
      "File \u001B[1;32mD:\\PycharmProjects\\OFC4DNA\\Helper.py:605\u001B[0m, in \u001B[0;36mdecode_from_fasta\u001B[1;34m(filename, number_of_chunks, dist, error_correction, use_seed_xor, use_payload_xor, seed_spacing, use_headerchunk)\u001B[0m\n\u001B[0;32m    602\u001B[0m res \u001B[38;5;241m=\u001B[39m decoder\u001B[38;5;241m.\u001B[39mdecodeFile(packet_len_format\u001B[38;5;241m=\u001B[39m\u001B[38;5;124m\"\u001B[39m\u001B[38;5;124mH\u001B[39m\u001B[38;5;124m\"\u001B[39m, crc_len_format\u001B[38;5;241m=\u001B[39m\u001B[38;5;124m\"\u001B[39m\u001B[38;5;124mI\u001B[39m\u001B[38;5;124m\"\u001B[39m,\n\u001B[0;32m    603\u001B[0m                          number_of_chunks_len_format\u001B[38;5;241m=\u001B[39m\u001B[38;5;124m\"\u001B[39m\u001B[38;5;124mI\u001B[39m\u001B[38;5;124m\"\u001B[39m, id_len_format\u001B[38;5;241m=\u001B[39m\u001B[38;5;124m\"\u001B[39m\u001B[38;5;124mH\u001B[39m\u001B[38;5;124m\"\u001B[39m)\n\u001B[0;32m    604\u001B[0m \u001B[38;5;28mprint\u001B[39m(\u001B[38;5;124mf\u001B[39m\u001B[38;5;124m\"\u001B[39m\u001B[38;5;124mSuccess: \u001B[39m\u001B[38;5;132;01m{\u001B[39;00mres\u001B[38;5;132;01m}\u001B[39;00m\u001B[38;5;124m\"\u001B[39m)\n\u001B[1;32m--> 605\u001B[0m res_data \u001B[38;5;241m=\u001B[39m \u001B[43mdecoder\u001B[49m\u001B[38;5;241;43m.\u001B[39;49m\u001B[43msaveDecodedFile\u001B[49m\u001B[43m(\u001B[49m\u001B[43mlast_chunk_len_format\u001B[49m\u001B[38;5;241;43m=\u001B[39;49m\u001B[38;5;124;43m\"\u001B[39;49m\u001B[38;5;124;43m\"\u001B[39;49m\u001B[43m,\u001B[49m\u001B[43m \u001B[49m\u001B[43mnull_is_terminator\u001B[49m\u001B[38;5;241;43m=\u001B[39;49m\u001B[38;5;28;43;01mTrue\u001B[39;49;00m\u001B[43m,\u001B[49m\u001B[43m \u001B[49m\u001B[43mprint_to_output\u001B[49m\u001B[38;5;241;43m=\u001B[39;49m\u001B[38;5;28;43;01mFalse\u001B[39;49;00m\u001B[43m,\u001B[49m\n\u001B[0;32m    606\u001B[0m \u001B[43m                        \u001B[49m\u001B[43mpartial_decoding\u001B[49m\u001B[38;5;241;43m=\u001B[39;49m\u001B[38;5;28;43;01mTrue\u001B[39;49;00m\u001B[43m)\u001B[49m\n\u001B[0;32m    607\u001B[0m \u001B[38;5;28;01mreturn\u001B[39;00m res, res_data\n",
      "File \u001B[1;32mD:\\PycharmProjects\\OFC4DNA\\twichplay\\Lib\\site-packages\\norec4dna\\RU10Decoder.py:603\u001B[0m, in \u001B[0;36mRU10Decoder.saveDecodedFile\u001B[1;34m(self, last_chunk_len_format, null_is_terminator, print_to_output, return_file_name, partial_decoding)\u001B[0m\n\u001B[0;32m    601\u001B[0m \u001B[38;5;28;01melse\u001B[39;00m:\n\u001B[0;32m    602\u001B[0m     \u001B[38;5;28;01mif\u001B[39;00m null_is_terminator:\n\u001B[1;32m--> 603\u001B[0m         splitter \u001B[38;5;241m=\u001B[39m \u001B[38;5;28;43mself\u001B[39;49m\u001B[38;5;241;43m.\u001B[39;49m\u001B[43mGEPP\u001B[49m\u001B[38;5;241;43m.\u001B[39;49m\u001B[43mb\u001B[49m\u001B[43m[\u001B[49m\u001B[43mx\u001B[49m\u001B[43m]\u001B[49m\u001B[38;5;241;43m.\u001B[39;49m\u001B[43mtostring\u001B[49m\u001B[43m(\u001B[49m\u001B[43m)\u001B[49m\u001B[38;5;241;43m.\u001B[39;49m\u001B[43mdecode\u001B[49m\u001B[43m(\u001B[49m\u001B[43m)\u001B[49m\u001B[38;5;241m.\u001B[39msplit(\u001B[38;5;124m\"\u001B[39m\u001B[38;5;130;01m\\x00\u001B[39;00m\u001B[38;5;124m\"\u001B[39m)\n\u001B[0;32m    604\u001B[0m         output \u001B[38;5;241m=\u001B[39m splitter[\u001B[38;5;241m0\u001B[39m]\u001B[38;5;241m.\u001B[39mencode()\n\u001B[0;32m    605\u001B[0m         \u001B[38;5;28;01mif\u001B[39;00m \u001B[38;5;28mtype\u001B[39m(output) \u001B[38;5;241m==\u001B[39m \u001B[38;5;28mbytes\u001B[39m:\n",
      "\u001B[1;31mUnicodeDecodeError\u001B[0m: 'utf-8' codec can't decode bytes in position 3-4: invalid continuation byte"
     ]
    }
   ],
   "execution_count": 3
  },
  {
   "metadata": {},
   "cell_type": "code",
   "outputs": [],
   "execution_count": null,
   "source": [
    "\n",
    "\n",
    "number_of_chunks = 2868\n",
    "files = glob.glob(\"clusts/opt_lorem_ipsum100k.doc_150*.fasta\")\n",
    "\n",
    "for file in files:\n",
    "    error_correction = get_error_correction_decode(\"reedsolomon\", 2)\n",
    "    dist = get_dist(file)\n",
    "    use_payload_xor = get_payload_xor(file)\n",
    "    seed_spacing = get_seed_spacing(file)\n",
    "    static_number_of_chunks = number_of_chunks\n",
    "    print(f\"Current file and settings: {file}, {dist}, {use_payload_xor}, {seed_spacing}, {static_number_of_chunks}\")\n",
    "    try:\n",
    "        res = decode_from_fasta(file, number_of_chunks=number_of_chunks, dist=dist, error_correction=error_correction,\n",
    "                                use_seed_xor=False, use_payload_xor=use_payload_xor, seed_spacing=seed_spacing,\n",
    "                                use_headerchunk=False, static_number_of_chunks=number_of_chunks)\n",
    "    except Exception as e:\n",
    "        print(f\"Error in {file}: {e}\")\n",
    "        continue"
   ],
   "id": "6f5106e2a128daad"
  }
 ],
 "metadata": {
  "kernelspec": {
   "display_name": "Python 3",
   "language": "python",
   "name": "python3"
  },
  "language_info": {
   "codemirror_mode": {
    "name": "ipython",
    "version": 2
   },
   "file_extension": ".py",
   "mimetype": "text/x-python",
   "name": "python",
   "nbconvert_exporter": "python",
   "pygments_lexer": "ipython2",
   "version": "2.7.6"
  }
 },
 "nbformat": 4,
 "nbformat_minor": 5
}
