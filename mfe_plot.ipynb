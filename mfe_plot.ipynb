{
 "cells": [
  {
   "cell_type": "code",
   "execution_count": 2,
   "id": "initial_id",
   "metadata": {
    "collapsed": true,
    "ExecuteTime": {
     "end_time": "2024-05-22T06:57:13.108060Z",
     "start_time": "2024-05-22T06:57:12.448267Z"
    }
   },
   "source": [
    "import pandas as pd\n",
    "import numpy as np\n",
    "import json\n",
    "df = json.load(open(\"clusts/cs_23_I_max_2hp_10gc_new2_mfe_5000.json\"))"
   ],
   "outputs": []
  },
  {
   "cell_type": "code",
   "source": [
    "out = {}\n",
    "print(df)\n",
    "for key, value in df.items():\n",
    "    print(f\"{key}, min {np.mean(value)}, std {np.std(value)}, max {np.max(value)}\")\n",
    "    out[key] = np.mean(value)\n",
    "#print(df)"
   ],
   "metadata": {
    "collapsed": false,
    "ExecuteTime": {
     "end_time": "2024-05-22T06:57:13.454307Z",
     "start_time": "2024-05-22T06:57:13.155926Z"
    }
   },
   "id": "ee2c2df03ef4c46b",
   "execution_count": 3,
   "outputs": []
  },
  {
   "cell_type": "code",
   "source": [
    "for key, value in df.items():\n",
    "    # create a violin plot usin seaborn:\n",
    "    import seaborn as sns\n",
    "    import matplotlib.pyplot as plt\n",
    "    fig, ax = plt.subplots()\n",
    "    sns.violinplot(data=df[key], ax=ax)\n",
    "    print(key)\n",
    "    try:\n",
    "        conf_name = key.split('sleeping_beauty_150_')[1] \n",
    "        key_title = conf_name.replace(\"compress_encrypt_high_entropy_dist\",\"high entropy,\").replace(\"bmp_low_entropy_diff_dist\", \"diff low entropy,\").replace(\"bmp_low_entropy_evo_dist\", \"evo low entropy,\").replace(\"raptor\", \"default (raptor),\")\n",
    "    except:\n",
    "        conf_name = key.replace(\"clusts/\", \"\")\n",
    "        key_title = conf_name\n",
    "    key_title = key_title.replace(\"sleeping_beauty_\", \"\").replace(\"seedspacing\", \"spacing \").replace('_', ' ').replace(\" payloadxor\", \", payloadxor\").replace('.fasta', '').replace(\"grass\", \"grass code\").replace(\"cs23\", \"\")\n",
    "        # Add the mean value to the plot using plt.text()\n",
    "    plt.text(0.8, 0.9, f\"Mean: {out[key]:.5f}\", transform=ax.transAxes, fontsize=12, ha='center')\n",
    "    \n",
    "    #plt.title(f\"{key_title}\")\n",
    "    plt.title(\"Minimum free energy (MFE) of the generated sequences\")\n",
    "    plt.xlabel(key_title, fontsize=12)\n",
    "    plt.grid(True)\n",
    "    plt.savefig(f\"clusts/mfe_plot/mfe_violin_{conf_name}.svg\", format=\"svg\", dpi=1200)\n",
    "    plt.savefig(f\"clusts/mfe_plot/mfe_violin_{conf_name}.pdf\", bbox_inches=\"tight\")\n",
    "    plt.show()\n",
    "    "
   ],
   "metadata": {
    "collapsed": false,
    "ExecuteTime": {
     "end_time": "2024-05-22T06:57:42.952619Z",
     "start_time": "2024-05-22T06:57:14.424272Z"
    }
   },
   "id": "efd9f32908c720cc",
   "execution_count": 4,
   "outputs": []
  },
  {
   "cell_type": "code",
   "source": [
    "fig, ax = plt.subplots()\n",
    "sns.violinplot(data=df, ax=ax)\n",
    "plt.show()\n",
    "plt.close()\n",
    "data = []\n",
    "for key, value in df.items():\n",
    "    # create a violin plot usin seaborn:\n",
    "    value = sorted(value, reverse=True) #[:3000]\n",
    "    import seaborn as sns\n",
    "    import matplotlib.pyplot as plt\n",
    "    #fig, ax = plt.subplots()\n",
    "    #sns.violinplot(data=value, ax=ax)\n",
    "    print(key)\n",
    "    try:\n",
    "        conf_name = key.split('sleeping_beauty_150_')[1] \n",
    "        key_title = conf_name.replace(\"compress_encrypt_high_entropy_dist\",\"high entropy,\").replace(\"bmp_low_entropy_diff_dist\", \"diff low entropy,\").replace(\"bmp_low_entropy_evo_dist\", \"evo low entropy,\").replace(\"raptor\", \"default (raptor),\")\n",
    "    except:\n",
    "        conf_name = key.replace(\"clusts/\", \"\")\n",
    "        key_title = conf_name\n",
    "    key_title = key_title.replace(\"sleeping_beauty_\", \"\").replace(\"seedspacing\", \"spacing \").replace('_', ' ').replace(\" payloadxor\", \", payloadxor\").replace('.fasta', '').replace(\"grass\", \"grass code\").replace(\"cs23\", \"\")\n",
    "    splits = key_title.split(\",\")\n",
    "    if len(splits) == 2:\n",
    "        dist, spacing = splits\n",
    "        spacing = int(spacing.split(\"spacing \")[1])\n",
    "        payloadxor = False\n",
    "    elif len(splits) == 3:\n",
    "        dist, spacing, _ = splits\n",
    "        payloadxor = True\n",
    "        spacing = int(spacing.split(\"spacing \")[1])\n",
    "    else:\n",
    "        dist = splits[0]\n",
    "        payloadxor = False\n",
    "        spacing = 0\n",
    "    data.append({\n",
    "        \"dist\": dist,\n",
    "        \"spacing\": spacing,\n",
    "        \"payloadxor\": payloadxor,\n",
    "        \"combination\": dist + ', spacing ' + str(spacing) + (', payloadxor' if payloadxor else ''),\n",
    "        \"mfe\": value\n",
    "    })\n",
    "data2 = pd.DataFrame(data)\n",
    "data2"
   ],
   "metadata": {
    "collapsed": false,
    "ExecuteTime": {
     "end_time": "2024-05-22T09:47:19.630047Z",
     "start_time": "2024-05-22T09:47:14.741621Z"
    }
   },
   "id": "e0bb0e3c7b48e624",
   "execution_count": 52,
   "outputs": []
  },
  {
   "cell_type": "code",
   "source": [
    "data2['combination'] = data2['dist'].astype(str) + ', spacing ' + data2['spacing'].astype(str) + (', ' + data2['payloadxor'].astype(str) if data2['payloadxor'].any() else '')\n",
    "filtered_data = data2[data2['dist'].str.strip() != \"dna fountain\"]\n",
    "filtered_data = filtered_data[filtered_data['spacing'] < 5]\n",
    "filtered_data = filtered_data[filtered_data['payloadxor'] == False]\n",
    "\n",
    "filtered_raw_data = {x[\"combination\"]: x[\"mfe\"] for x in data if  not \"24\" in x['dist'] and x['spacing'] <3 and x['payloadxor'] == False}\n",
    "# plot the data:\n",
    "plot_order = sorted(filtered_raw_data.keys())\n",
    "plot_order.remove(\"dna fountain , spacing 0\")\n",
    "plot_order.append(\"dna fountain , spacing 0\")\n",
    "fig, ax = plt.subplots()\n",
    "sns.violinplot(filtered_raw_data, ax=ax, order=plot_order)\n",
    "plt.title(\"Comparison: Minimum free energy (MFE) for the different experiments\")\n",
    "ax.xaxis.label.set_rotation(45)\n",
    "ax.set_xticklabels(ax.get_xticklabels(), rotation=45, ha='right')\n",
    "ax.set_ylabel(\"Minimum Free Energy (MFE)\")\n",
    "ax.grid(True)\n",
    "plt.savefig(f\"clusts/mfe_plot/mfe_violin_cmp_no_payload_xor.svg\", format=\"svg\", dpi=1200)\n",
    "plt.savefig(f\"clusts/mfe_plot/mfe_violin_cmp_no_payload_xor.pdf\", bbox_inches=\"tight\")\n",
    "plt.show()\n",
    "filtered_data"
   ],
   "metadata": {
    "collapsed": false,
    "ExecuteTime": {
     "end_time": "2024-05-22T09:09:54.303045Z",
     "start_time": "2024-05-22T09:09:52.402680Z"
    }
   },
   "id": "161a00e881dcd512",
   "execution_count": 49,
   "outputs": []
  },
  {
   "cell_type": "code",
   "source": [
    "data2['combination'] = data2['dist'].astype(str) + ', spacing ' + data2['spacing'].astype(str) + (', ' + data2['payloadxor'].astype(str) if data2['payloadxor'].any() else '')\n",
    "filtered_data = data2[data2['dist'].str.strip() != \"dna fountain\"]\n",
    "filtered_data = filtered_data[filtered_data['spacing'] < 5]\n",
    "filtered_data = filtered_data[filtered_data['payloadxor'] == False]\n",
    "\n",
    "filtered_raw_data = {x[\"combination\"]: x[\"mfe\"] for x in data if  not \"24\" in x['dist'] and x['spacing'] <3 and x['payloadxor'] == True}\n",
    "# plot the data:\n",
    "plot_order = sorted(filtered_raw_data.keys())\n",
    "#plot_order.remove(\"dna fountain , spacing 0\")\n",
    "#plot_order.append(\"dna fountain , spacing 0\")\n",
    "fig, ax = plt.subplots()\n",
    "sns.violinplot(filtered_raw_data, ax=ax, order=plot_order)\n",
    "ax.xaxis.label.set_rotation(45)\n",
    "plt.title(\"Comparison: Minimum free energy (MFE) with payloadxor\")\n",
    "ax.set_xticklabels(ax.get_xticklabels(), rotation=45, ha='right')\n",
    "ax.set_ylabel(\"Minimum Free Energy (MFE)\")\n",
    "ax.grid(True)\n",
    "plt.savefig(f\"clusts/mfe_plot/mfe_violin_cmp_payload_xor.svg\", format=\"svg\", dpi=1200)\n",
    "plt.savefig(f\"clusts/mfe_plot/mfe_violin_cmp_payload_xor.pdf\", bbox_inches=\"tight\")\n",
    "plt.show()\n",
    "filtered_data"
   ],
   "metadata": {
    "collapsed": false,
    "ExecuteTime": {
     "end_time": "2024-05-22T09:47:32.507451Z",
     "start_time": "2024-05-22T09:47:30.581216Z"
    }
   },
   "id": "f2904ad8cde02b67",
   "execution_count": 53,
   "outputs": []
  },
  {
   "cell_type": "code",
   "source": [
    "data2['combination'] = data2['dist'].astype(str) + ', spacing ' + data2['spacing'].astype(str) + (', ' + data2['payloadxor'].astype(str) if data2['payloadxor'].any() else '')\n",
    "filtered_data = data2[data2['dist'].str.strip() != \"dna fountain\"]\n",
    "filtered_data = filtered_data[filtered_data['spacing'] < 3]\n",
    "filtered_data = filtered_data[filtered_data['payloadxor'] == True]\n",
    "\n",
    "filtered_raw_data = {x[\"combination\"]: sorted(x[\"mfe\"], reverse=True)[:713] for x in data if  not \"24\" in x['dist'] and x['spacing'] < 3 and (x['payloadxor'] == True or \"dna fountain\" in x['dist'] or \"grass\" in x['dist'])}\n",
    "# plot the data:\n",
    "plot_order = sorted(filtered_raw_data.keys())\n",
    "plot_order.remove(\"dna fountain , spacing 0\")\n",
    "plot_order.append(\"dna fountain , spacing 0\")\n",
    "fig, ax = plt.subplots()\n",
    "sns.violinplot(filtered_raw_data, ax=ax, order=plot_order)\n",
    "ax.xaxis.label.set_rotation(45)\n",
    "plt.title(\"Comparison: Minimum free energy (MFE) - best 713 sequences\") # best 713 out of the 50.000 generated sequences - it has to be expceted that when generating all 2^32 sequences, this average will improve even further.\n",
    "ax.set_xticklabels(ax.get_xticklabels(), rotation=45, ha='right')\n",
    "ax.set_ylabel(\"Minimum Free Energy (MFE)\")\n",
    "ax.grid(True)\n",
    "plt.savefig(f\"clusts/mfe_plot/mfe_violin_cmp_payload_xor_first_187_only.svg\", format=\"svg\", dpi=1200)\n",
    "plt.savefig(f\"clusts/mfe_plot/mfe_violin_cmp_payload_xor_first_187_only.pdf\", bbox_inches=\"tight\")\n",
    "plt.show()\n",
    "filtered_data"
   ],
   "metadata": {
    "collapsed": false,
    "ExecuteTime": {
     "end_time": "2024-05-22T07:33:13.725371Z",
     "start_time": "2024-05-22T07:33:12.543749Z"
    }
   },
   "id": "36bb10a729f44df",
   "execution_count": 41,
   "outputs": []
  },
  {
   "cell_type": "code",
   "source": [
    "#for key, value in df.items():\n",
    "#    value = sorted(value, reverse=True)[:713]\n",
    "#    # create a violin plot usin seaborn:\n",
    "#    import seaborn as sns\n",
    "#    import matplotlib.pyplot as plt\n",
    "#    sns.violinplot(data=value)\n",
    "#    key_title = key.replace('clusts\\\\cs_25_max_2_hp_10_gc_opt_sleeping_beauty_150_', '').replace('.fasta', '').replace('_', ' ')\n",
    "#    plt.title(f\"{key_title} (Mean: {np.mean(value)})\")\n",
    "#    plt.show()\n",
    "\n",
    "    \n",
    "for key, value in df.items():\n",
    "    # create a violin plot usin seaborn:\n",
    "    value = sorted(value, reverse=True)[:713]\n",
    "    import seaborn as sns\n",
    "    import matplotlib.pyplot as plt\n",
    "    fig, ax = plt.subplots()\n",
    "    sns.violinplot(data=value, ax=ax)\n",
    "    print(key)\n",
    "    try:\n",
    "        conf_name = key.split('sleeping_beauty_150_')[1] \n",
    "        key_title = conf_name.replace(\"compress_encrypt_high_entropy_dist\",\"high entropy,\").replace(\"bmp_low_entropy_diff_dist\", \"diff low entropy,\").replace(\"bmp_low_entropy_evo_dist\", \"evo low entropy,\").replace(\"raptor\", \"default (raptor),\")\n",
    "    except:\n",
    "        conf_name = key.replace(\"clusts/\", \"\")\n",
    "        key_title = conf_name\n",
    "    key_title = key_title.replace(\"sleeping_beauty_\", \"\").replace(\"seedspacing\", \"spacing \").replace('_', ' ').replace(\" payloadxor\", \", payloadxor\").replace('.fasta', '').replace(\"grass\", \"grass code\").replace(\"cs23\", \"\")\n",
    "        # Add the mean value to the plot using plt.text()\n",
    "    plt.text(0.8, 0.9, f\"Mean: {np.mean(value):.5f}\", transform=ax.transAxes, fontsize=12, ha='center')\n",
    "    \n",
    "    #plt.title(f\"{key_title}\")\n",
    "    plt.title(\"Minimum free energy (MFE) of the generated sequences\")\n",
    "    plt.xlabel(key_title, fontsize=12)\n",
    "    plt.grid(True)\n",
    "    plt.savefig(f\"clusts/mfe_plot/cmp_mfe_violin_{conf_name}.svg\", format=\"svg\", dpi=1200)\n",
    "    plt.savefig(f\"clusts/mfe_plot/cmp_mfe_violin_{conf_name}.pdf\", bbox_inches=\"tight\")\n",
    "    plt.show()\n",
    "    "
   ],
   "metadata": {
    "collapsed": false,
    "ExecuteTime": {
     "end_time": "2024-05-22T09:23:20.248452Z",
     "start_time": "2024-05-22T09:22:52.081597Z"
    }
   },
   "id": "ed201950a895cb2f",
   "execution_count": 51,
   "outputs": []
  },
  {
   "cell_type": "code",
   "source": [
    "a = \"CCAGTTGCCTCCACGATTCCATTCTATTCATTCGAATAGGGTCAAACCCGTAATCACCGGAGACCCTGTCATGTTTCGTCTCCGTTGTAATCCAGGACAGCCCAAAGGTTCCCGTAGTGAAGCAAGCAAGGCCTCTTAAAGGCGTCCG\"\n",
    "len(a)\n",
    "import RNA\n",
    "rna = RNA.fold_compound(a)\n",
    "pf = rna.pf()[1]\n",
    "pf"
   ],
   "metadata": {
    "collapsed": false,
    "ExecuteTime": {
     "end_time": "2024-05-21T11:39:21.823723Z",
     "start_time": "2024-05-21T11:39:21.754473Z"
    }
   },
   "id": "a0abb3511c2efd45",
   "execution_count": 6,
   "outputs": []
  },
  {
   "cell_type": "code",
   "source": [],
   "metadata": {
    "collapsed": false
   },
   "id": "1ac1bce4f82294ac",
   "execution_count": null,
   "outputs": []
  }
 ],
 "metadata": {
  "kernelspec": {
   "display_name": "Python 3",
   "language": "python",
   "name": "python3"
  },
  "language_info": {
   "codemirror_mode": {
    "name": "ipython",
    "version": 2
   },
   "file_extension": ".py",
   "mimetype": "text/x-python",
   "name": "python",
   "nbconvert_exporter": "python",
   "pygments_lexer": "ipython2",
   "version": "2.7.6"
  }
 },
 "nbformat": 4,
 "nbformat_minor": 5
}
