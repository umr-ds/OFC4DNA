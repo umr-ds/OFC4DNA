{
 "cells": [
  {
   "cell_type": "code",
   "execution_count": 1,
   "metadata": {
    "collapsed": true,
    "ExecuteTime": {
     "start_time": "2023-10-23T12:50:27.624646Z",
     "end_time": "2023-10-23T12:50:30.103660Z"
    }
   },
   "outputs": [],
   "source": [
    "import csv\n",
    "import json\n",
    "import math\n",
    "import matplotlib\n",
    "import seaborn as sns\n",
    "import numpy as np\n",
    "import pandas as pd\n",
    "from matplotlib import pyplot as plt\n",
    "\n",
    "import Distribution\n",
    "from Helper import encode, calculate_entropy, norm_list, to_dist_list, raptor_dist\n",
    "from NOREC4DNA.norec4dna.distributions.RaptorDistribution import RaptorDistribution\n",
    "from NOREC4DNA.norec4dna.rules.FastDNARules import FastDNARules"
   ]
  },
  {
   "cell_type": "code",
   "execution_count": 2,
   "outputs": [],
   "source": [
    "# increase seaborn font size\n",
    "sns.set(font_scale=1.25)\n",
    "# plt.tight_layout(pad=0.4, w_pad=0.5, h_pad=1.0)\n",
    "matplotlib.rcParams.update({'figure.autolayout': True})"
   ],
   "metadata": {
    "collapsed": false,
    "ExecuteTime": {
     "start_time": "2023-10-23T12:50:30.103660Z",
     "end_time": "2023-10-23T12:50:30.106691Z"
    }
   }
  },
  {
   "cell_type": "code",
   "execution_count": 3,
   "outputs": [],
   "source": [
    "a = [(319943, 79185), (363581, 67776), (393642, 69167), (418473, 70606), (414770, 76321), (415726, 77589), (416529, 76359), (416711, 76865)]"
   ],
   "metadata": {
    "collapsed": false,
    "ExecuteTime": {
     "start_time": "2023-10-23T12:50:30.106691Z",
     "end_time": "2023-10-23T12:50:30.111778Z"
    }
   }
  },
  {
   "cell_type": "code",
   "execution_count": 4,
   "outputs": [
    {
     "data": {
      "text/plain": "[240758, 295805, 324475, 347867, 338449, 338137, 340170, 339846]"
     },
     "execution_count": 4,
     "metadata": {},
     "output_type": "execute_result"
    }
   ],
   "source": [
    "[x-y for x,y in a]"
   ],
   "metadata": {
    "collapsed": false,
    "ExecuteTime": {
     "start_time": "2023-10-23T12:50:30.112797Z",
     "end_time": "2023-10-23T12:50:30.124976Z"
    }
   }
  },
  {
   "cell_type": "code",
   "execution_count": 7,
   "outputs": [
    {
     "name": "stdout",
     "output_type": "stream",
     "text": [
      "0 0\n",
      "1 8\n",
      "2 16\n",
      "3 24\n",
      "4 32\n",
      "5 40\n",
      "6 48\n",
      "7 56\n",
      "8 64\n",
      "9 72\n",
      "10 80\n",
      "11 88\n",
      "12 96\n",
      "13 104 - ERROR: out of bounds\n",
      "14 112 - ERROR: out of bounds\n",
      "15 120 - ERROR: out of bounds\n"
     ]
    },
    {
     "data": {
      "text/plain": "6.25"
     },
     "execution_count": 7,
     "metadata": {},
     "output_type": "execute_result"
    }
   ],
   "source": [
    "plen = 100\n",
    "seedlen = 16\n",
    "spacing = 8\n",
    "x = 0\n",
    "for i in range(seedlen):\n",
    "    if x > plen:\n",
    "        print(f\"{i} {x} - ERROR: out of bounds\")\n",
    "    else:\n",
    "        print(i, x)\n",
    "    x+= spacing\n",
    "1.0 * plen / (seedlen * spacing)\n",
    "(plen)/(seedlen)"
   ],
   "metadata": {
    "collapsed": false,
    "ExecuteTime": {
     "start_time": "2023-10-23T12:52:06.797076Z",
     "end_time": "2023-10-23T12:52:06.800143Z"
    }
   }
  },
  {
   "cell_type": "code",
   "execution_count": 5,
   "outputs": [],
   "source": [],
   "metadata": {
    "collapsed": false,
    "ExecuteTime": {
     "start_time": "2023-10-23T12:50:30.127082Z",
     "end_time": "2023-10-23T12:50:30.140325Z"
    }
   }
  }
 ],
 "metadata": {
  "kernelspec": {
   "display_name": "Python 3",
   "language": "python",
   "name": "python3"
  },
  "language_info": {
   "codemirror_mode": {
    "name": "ipython",
    "version": 2
   },
   "file_extension": ".py",
   "mimetype": "text/x-python",
   "name": "python",
   "nbconvert_exporter": "python",
   "pygments_lexer": "ipython2",
   "version": "2.7.6"
  }
 },
 "nbformat": 4,
 "nbformat_minor": 0
}
