{
 "cells": [
  {
   "metadata": {},
   "cell_type": "markdown",
   "source": "## Only used as a illustrative figure",
   "id": "2e481af3c67dbe6b"
  },
  {
   "metadata": {
    "ExecuteTime": {
     "end_time": "2024-05-19T09:50:41.473554Z",
     "start_time": "2024-05-19T09:50:41.468993Z"
    }
   },
   "cell_type": "code",
   "source": [
    "import seaborn as sns\n",
    "import matplotlib.pyplot as plt\n",
    "import matplotlib\n",
    "import numpy as np\n",
    "from matplotlib import ticker\n",
    "from NOREC4DNA.optimizer.optimization_helper import list_to_diff_list, norm_list\n",
    "# increase seaborn font size\n",
    "sns.set(font_scale=1.25)\n",
    "sns.set_style(\"ticks\", {'axes.grid': True})\n",
    "# plt.tight_layout(pad=0.4, w_pad=0.5, h_pad=1.0)\n",
    "matplotlib.rcParams.update({'figure.autolayout': True}),\n",
    "\n",
    "raptor_dist = [0, 10241, 491582, 712794, 831695, 831695, 831695, 831695, 831695, 831695, 948446, 1032189, 1032189,\n",
    "               1032189, 1032189, 1032189, 1032189, 1032189, 1032189, 1032189, 1032189, 1032189, 1032189, 1032189,\n",
    "               1032189, 1032189, 1032189, 1032189, 1032189, 1032189, 1032189, 1032189, 1032189, 1032189, 1032189,\n",
    "               1032189, 1032189, 1032189, 1032189, 1032189, 1048576]"
   ],
   "id": "16bf424860b8e389",
   "execution_count": 99,
   "outputs": []
  },
  {
   "metadata": {
    "ExecuteTime": {
     "end_time": "2024-05-19T10:07:26.588473Z",
     "start_time": "2024-05-19T10:07:25.912820Z"
    }
   },
   "cell_type": "code",
   "source": [
    "fig, ax = plt.subplots()\n",
    "sns.pointplot(x=[x+1 for x in range(len(raptor_dist)-1)], y=norm_list(list_to_diff_list(raptor_dist)), label='Distribution function', ax=ax)\n",
    "ax.xaxis.set_major_locator(ticker.MultipleLocator(5))\n",
    "ax.xaxis.set_major_formatter(ticker.ScalarFormatter())\n",
    "ax.set_ylabel('Probability')\n",
    "ax.set_xlabel('Degree')\n",
    "ax.set_ylim(-0.05, 0.5)\n",
    "ax.grid(True)\n",
    "ax2 = plt.twinx()\n",
    "print(norm_list(list_to_diff_list(raptor_dist)))\n",
    "# set ylimit of ax2 to be 0 to 1:\n",
    "init_error_vals = [0.08434, 0.8342008, 0.6535, 0.515553, 0.0, 0.0, 0.0, 0.0, 0.0, 0.434, 0.332, 0.0, 0.0, 0.0, 0.0, 0.0, 0.0, 0.0, 0.0, 0.0, 0.0, 0.0, 0.0, 0.0, 0.0, 0.0, 0.0, 0.0, 0.0, 0.0, 0.0, 0.0, 0.0, 0.0, 0.0, 0.0, 0.0, 0.0, 0.0, 0.09922]\n",
    "err_vals = [x+0.05 if x == 0 else x for x in init_error_vals]\n",
    "mean = np.mean([x for x in init_error_vals if x != 0])\n",
    "# plot error vals on seconds axis:\n",
    "pde = sns.lineplot(x=[x for x in range(len(raptor_dist)-1)], y=err_vals, ax=ax2, color='red', label='Per degree error')\n",
    "ax2.set_ylim(-0.05, 1)\n",
    "ax2.set_ylabel('Average error per degree')\n",
    "meanerr = sns.lineplot(x=[x for x in range(len(raptor_dist)-1)], y=[mean for _ in range(len(err_vals))], ax=ax2, color='red', linestyle='--', label=f'Average error ({str(round(mean, 3))})')\n",
    "\n",
    "pde_handle, pde_label = pde.get_legend_handles_labels()\n",
    "handles1, labels1 = ax.get_legend_handles_labels()\n",
    "handles2, labels2 = ax2.get_legend_handles_labels()\n",
    "handles = pde_handle + handles1\n",
    "labels = pde_label + labels1\n",
    "ax.legend('', frameon=False)\n",
    "ax2.legend(handles, labels, loc='upper right')\n",
    "\n",
    "plt.savefig(f\"plain_raptor.svg\", format=\"svg\", dpi=1200)\n",
    "plt.savefig(f\"plain_raptor.pdf\", bbox_inches=\"tight\")"
   ],
   "id": "f3e7f5d264a990a5",
   "execution_count": 127,
   "outputs": []
  },
  {
   "metadata": {
    "ExecuteTime": {
     "end_time": "2024-05-19T10:15:31.398565Z",
     "start_time": "2024-05-19T10:15:30.708253Z"
    }
   },
   "cell_type": "code",
   "source": [
    "new_dist = [0.019766578674316406, 0.09590425491333008, 0.16096420288085938, 0.01339282989501953, 0.0, 0.1235, 0.0, 0.0, 0.0, 0.1113424301147461, 0.0798635482788086, 0.0, 0.0, 0.0, 0.0, 0.0, 0.0, 0.0, 0.0, 0.152655, 0.0, 0.013435, 0.0, 0.0, 0.0, 0.023477, 0.0, 0.021341243, 0.0, 0.0, 0.0, 0.0, 0.0, 0.0, 0.1340, 0.0, 0.0, 0.0, 0.0, 0.07562786102294922]\n",
    "fig, ax = plt.subplots()\n",
    "sns.pointplot(x=[x+1 for x in range(len(raptor_dist)-1)], y=norm_list(new_dist), label='Distribution function', ax=ax)\n",
    "ax.xaxis.set_major_locator(ticker.MultipleLocator(5))\n",
    "ax.xaxis.set_major_formatter(ticker.ScalarFormatter())\n",
    "ax.set_ylabel('Probability')\n",
    "ax.set_xlabel('Degree')\n",
    "ax.set_ylim(-0.05, 0.5)\n",
    "ax.grid(True)\n",
    "ax2 = plt.twinx()\n",
    "print(norm_list(list_to_diff_list(raptor_dist)))\n",
    "# set ylimit of ax2 to be 0 to 1:\n",
    "init_error_vals = [0.09434, 0.3542008, 0.5535, 0.115553, 0.0, 0.221221, 0.0, 0.0, 0.0, 0.434, 0.332, 0.0, 0.0, 0.0, 0.0, 0.0, 0.0, 0.0, 0.0, 0.2333, 0.0, 0.12323, 0.0, 0.0, 0.0, 0.1111, 0.0, 0.10110, 0.0, 0.0, 0.0, 0.0, 0.0, 0.0, 0.09912, 0.0, 0.0, 0.0, 0.0, 0.09922]\n",
    "err_vals = [x+0.04 if x == 0 else x for x in init_error_vals]\n",
    "mean = np.mean([x for x in init_error_vals if x != 0])\n",
    "# plot error vals on seconds axis:\n",
    "pde = sns.lineplot(x=[x for x in range(len(raptor_dist)-1)], y=err_vals, ax=ax2, color='red', label='Per degree error')\n",
    "ax2.set_ylim(-0.05, 1)\n",
    "ax2.set_ylabel('Average error per degree')\n",
    "meanerr = sns.lineplot(x=[x for x in range(len(raptor_dist)-1)], y=[mean for _ in range(len(err_vals))], ax=ax2, color='red', linestyle='--', label=f'Average error ({str(round(mean, 3))})')\n",
    "\n",
    "pde_handle, pde_label = pde.get_legend_handles_labels()\n",
    "handles1, labels1 = ax.get_legend_handles_labels()\n",
    "handles2, labels2 = ax2.get_legend_handles_labels()\n",
    "handles = pde_handle + handles1\n",
    "labels = pde_label + labels1\n",
    "ax.legend('', frameon=False)\n",
    "ax2.legend(handles, labels, loc='upper right')\n",
    "\n",
    "plt.savefig(f\"plain_new_dist.svg\", format=\"svg\", dpi=1200)\n",
    "plt.savefig(f\"plain_new_dist.pdf\", bbox_inches=\"tight\")"
   ],
   "id": "1a615bb483ba26b8",
   "execution_count": 128,
   "outputs": []
  },
  {
   "metadata": {
    "ExecuteTime": {
     "end_time": "2024-05-19T10:47:28.104529Z",
     "start_time": "2024-05-19T10:47:23.214543Z"
    }
   },
   "cell_type": "code",
   "source": [
    "# generate random graphs and plot them:\n",
    "#rnd_dist = np.random.rand(40)\n",
    "for i in range(10):\n",
    "    rnd_dist = norm_list(np.random.poisson(4, 40))\n",
    "    rnd_dist = [x if x > (1.42*np.mean(rnd_dist)) else 0 for x in rnd_dist]\n",
    "    rnd_dist = [x*12 if x > (1.5*np.mean(rnd_dist)) else np.random.random(1)[0]*x for x in rnd_dist]\n",
    "    print(rnd_dist)\n",
    "    fig, ax = plt.subplots()\n",
    "    sns.pointplot(x=[x+1 for x in range(len(raptor_dist)-1)], y=norm_list(rnd_dist), label='Distribution function', ax=ax)\n",
    "    ax.xaxis.set_major_locator(ticker.MultipleLocator(5))\n",
    "    ax.xaxis.set_major_formatter(ticker.ScalarFormatter())\n",
    "    ax.set_ylabel('Probability')\n",
    "    ax.set_xlabel('Degree')\n",
    "    ax.set_ylim(-0.05, 0.5)\n",
    "    ax.legend('', frameon=False)\n",
    "    plt.savefig(f\"rnd_dist_{10+i}.svg\", format=\"svg\", dpi=1200)\n",
    "    plt.savefig(f\"rnd_dist_{10+i}.pdf\", bbox_inches=\"tight\")"
   ],
   "id": "f940b2f0153c9b83",
   "execution_count": 196,
   "outputs": []
  },
  {
   "metadata": {},
   "cell_type": "markdown",
   "source": "",
   "id": "e887adae825e1bb"
  },
  {
   "metadata": {
    "ExecuteTime": {
     "end_time": "2024-05-19T10:32:19.540591Z",
     "start_time": "2024-05-19T10:32:19.031221Z"
    }
   },
   "cell_type": "code",
   "source": [
    "fig, ax = plt.subplots()\n",
    "sns.pointplot(x=[x+1 for x in range(len(raptor_dist)-1)], y=norm_list(list_to_diff_list(raptor_dist)), label='Distribution function', ax=ax)\n",
    "ax.xaxis.set_major_locator(ticker.MultipleLocator(5))\n",
    "ax.xaxis.set_major_formatter(ticker.ScalarFormatter())\n",
    "ax.set_ylabel('Probability')\n",
    "ax.set_xlabel('Degree')\n",
    "ax.set_ylim(-0.05, 0.5)\n",
    "ax.legend('', frameon=False)\n",
    "plt.savefig(f\"raptordist.svg\", format=\"svg\", dpi=1200)\n",
    "plt.savefig(f\"raptordist.pdf\", bbox_inches=\"tight\")\n",
    "plt.show()"
   ],
   "id": "fd16a82180bc7c8f",
   "execution_count": 195,
   "outputs": []
  }
 ],
 "metadata": {
  "kernelspec": {
   "display_name": "Python 3",
   "language": "python",
   "name": "python3"
  },
  "language_info": {
   "codemirror_mode": {
    "name": "ipython",
    "version": 2
   },
   "file_extension": ".py",
   "mimetype": "text/x-python",
   "name": "python",
   "nbconvert_exporter": "python",
   "pygments_lexer": "ipython2",
   "version": "2.7.6"
  }
 },
 "nbformat": 4,
 "nbformat_minor": 5
}
